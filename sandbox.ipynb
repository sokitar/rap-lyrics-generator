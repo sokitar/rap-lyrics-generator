{
 "metadata": {
  "language_info": {
   "codemirror_mode": {
    "name": "ipython",
    "version": 3
   },
   "file_extension": ".py",
   "mimetype": "text/x-python",
   "name": "python",
   "nbconvert_exporter": "python",
   "pygments_lexer": "ipython3",
   "version": "3.8.2-final"
  },
  "orig_nbformat": 2,
  "kernelspec": {
   "name": "python3",
   "display_name": "Python 3.8.2 32-bit ('.rap_lir_gen_env')",
   "metadata": {
    "interpreter": {
     "hash": "bdbaf3c5c6087ba31784858614667ddcb8d6105d73485471033d74fad7106f76"
    }
   }
  }
 },
 "nbformat": 4,
 "nbformat_minor": 2,
 "cells": [
  {
   "source": [
    "# SANDBOX\n",
    "Notebook para probar todo tipo de vainas\n",
    "## Prueba descarga líricas\n",
    "Ya teniendo el df con las URLs de las líricas, ver cómo descargar las canciones sin que haya fallos de letras vacías.\n"
   ],
   "cell_type": "markdown",
   "metadata": {}
  },
  {
   "cell_type": "code",
   "execution_count": 1,
   "metadata": {},
   "outputs": [],
   "source": [
    "from pandas import DataFrame, read_pickle\n",
    "from lyrics_scrapper import _URI_DF_CANCIONES, _NOMBRE_COL_ART,_NOMBRE_COL_LYR_URL, _NOMBRE_COL_IDS, _NOMBRE_COL_IDS, _NOMBRE_COL_LETRA,_URI_LETRAS\n",
    "import requests\n",
    "from bs4 import BeautifulSoup\n",
    "import re\n",
    "import numpy as np\n"
   ]
  },
  {
   "cell_type": "code",
   "execution_count": 2,
   "metadata": {},
   "outputs": [],
   "source": [
    "letras_df = read_pickle(_URI_DF_CANCIONES)\n",
    "artista = \"Dudu\"\n",
    "canart_df = letras_df[letras_df[_NOMBRE_COL_ART] == artista]"
   ]
  },
  {
   "cell_type": "code",
   "execution_count": 4,
   "metadata": {
    "tags": []
   },
   "outputs": [
    {
     "output_type": "stream",
     "name": "stdout",
     "text": [
      "27/27 de Dudu descargadas..."
     ]
    }
   ],
   "source": [
    "total_canciones = canart_df.shape[0]\n",
    "\n",
    "letras = [] # Lista que contendrá las letras de un artista\n",
    "ids_can = [] # Lista que contendrá los ids de las canciones\n",
    "\n",
    "n_can = 0\n",
    "print(f\"{n_can}/{total_canciones} de {artista} descargadas...\", end=\"\")\n",
    "for _, row in canart_df.iterrows():\n",
    "\n",
    "    try:\n",
    "        page = requests.get(row[_NOMBRE_COL_LYR_URL])\n",
    "    except requests.exceptions.RequestException:\n",
    "        raise requests.exceptions.RequestException(f\"Ha ocurrido un error al descargar la lírica de la canción \\\"{row[_NOMBRE_COL_TIT]}\\\"...\")\n",
    "\n",
    "    html = BeautifulSoup(page.text, \"html.parser\")  # Extract the page's HTML as a string\n",
    "\n",
    "    # Scrape the song lyrics from the HTML\n",
    "    lyrics = html.find(\"div\", class_=\"lyrics\")\n",
    "\n",
    "    if lyrics is None:\n",
    "        lyrics = html.find_all(\"div\", class_=re.compile(\"^Lyrics__Container\"))\n",
    "        texto = \"\\n\".join([div.get_text() for div in lyrics])\n",
    "    else:\n",
    "        texto = lyrics.get_text()\n",
    "\n",
    "    if lyrics is None:\n",
    "        letras_error+=1\n",
    "        # print(f\"No se ha podido descargar la cancion {row[_NOMBRE_COL_TIT]} de {row[_NOMBRE_COL_ART]} [{row[_NOMBRE_COL_LYR_URL]}]...\")\n",
    "        continue\n",
    "\n",
    "    letras.append(texto)\n",
    "    ids_can.append(row[_NOMBRE_COL_IDS])\n",
    "    n_can += 1\n",
    "    print(f\"\\r{n_can}/{total_canciones} de {artista} descargadas...\", end=\"\")\n",
    "dudu_df = DataFrame(data=np.array([ids_can, letras]).T, columns=[_NOMBRE_COL_IDS, _NOMBRE_COL_LETRA])"
   ]
  },
  {
   "cell_type": "code",
   "execution_count": 14,
   "metadata": {},
   "outputs": [
    {
     "output_type": "error",
     "ename": "NameError",
     "evalue": "name 'dudu_df' is not defined",
     "traceback": [
      "\u001b[1;31m---------------------------------------------------------------------------\u001b[0m",
      "\u001b[1;31mNameError\u001b[0m                                 Traceback (most recent call last)",
      "\u001b[1;32m<ipython-input-14-8a63c5fd1e7d>\u001b[0m in \u001b[0;36m<module>\u001b[1;34m\u001b[0m\n\u001b[1;32m----> 1\u001b[1;33m \u001b[0mprint\u001b[0m\u001b[1;33m(\u001b[0m\u001b[0mdudu_df\u001b[0m\u001b[1;33m.\u001b[0m\u001b[0miloc\u001b[0m\u001b[1;33m[\u001b[0m\u001b[1;36m7\u001b[0m\u001b[1;33m]\u001b[0m\u001b[1;33m[\u001b[0m\u001b[0m_NOMBRE_COL_LETRA\u001b[0m\u001b[1;33m]\u001b[0m\u001b[1;33m)\u001b[0m\u001b[1;33m\u001b[0m\u001b[1;33m\u001b[0m\u001b[0m\n\u001b[0m",
      "\u001b[1;31mNameError\u001b[0m: name 'dudu_df' is not defined"
     ]
    }
   ],
   "source": [
    "dudu_df.iloc[7][_NOMBRE_COL_LETRA]"
   ]
  },
  {
   "source": [
    "## 2.- Preprocesamiento del texto\n",
    "Aquí miraré cómo es el texto y qué pasos hay que realizar para tokenizarlo. Analizaré una letra de C.Tangana, El Jincho y Natos y Waor respectivamente.\n",
    "### Visualización\n",
    "#### Letra Jincho"
   ],
   "cell_type": "markdown",
   "metadata": {}
  },
  {
   "cell_type": "code",
   "execution_count": 3,
   "metadata": {},
   "outputs": [],
   "source": [
    "df_jin = read_pickle(_URI_LETRAS + 'El Jincho.pkl')"
   ]
  },
  {
   "cell_type": "code",
   "execution_count": 37,
   "metadata": {},
   "outputs": [
    {
     "output_type": "stream",
     "name": "stdout",
     "text": [
      "Sicariona yo soy un criminalPero tu eres más criminalLo mio es cristal baratoLo tuyo es originalYo con una cervezaTú con un litro de BrugalYo en el centro de menoresY tú presa en el penalYo en el hospitalTú en la clínica privadaYo con chandal del rastrilloTú con Louis Vuitton y pradaYo no voy al gymY tú tienes las tetas operadasYo tengo un macheteTú una prieta beretta cromadaYo doy bofetadasTú das botellazosY cuando meto manoTú quieres meter to' el brazoA mi me gusta pilaLo que a ti te mola mazoTú no eres de dar besitosNi yo soy de dar abrazos\n\nYo soy más de tarjetazosY tú de rayasYo que no hablo muchoY tú que nunca te callasYo soy Kinkillero NetoTú gitana a medias fallaYo hago freestyleY tú organizas todas las batallasYo quiero ir a las FallasTú a los San FerminesTú quieres una tarde locaY yo te llevo al cineMi abuelo recogía chatarraEl tuyo vendía kleenexTú chupas pa' que me corraYo chupo pa' que te orinesYo uso ListerineY tú te blanqueas los dientesYo soy antisocialY tú odias a la genteYo soy un perro viejoTú una zorra adolescenteYo estoy locoPero tu estás enferma de la mente\n\nYo tengo antecedentesTú un expediente terroristaTu naciste en ValdemingómezYo en OrcasitasYo soy mujeriegoY tú eres feministaYo me cuelo en el metroTú no pagas a los taxistasTú eres deportistaYo solo corro de los maderosYo tengo una BmxY tú tienes una ErosTú eres fan de MalúYo soy frustao' con el gueroYo no salgo del barrioTú viajas al extranjeroTu ex-novio es pandilleroY mi ex-novia es estudianteMis cadenas de plataY tu colgante de diamantesYo no quiero que tú bailesNi tú quieres que yo canteYo robo a camellosTú seduces narcotraficantes\n\nY es que tú eres más que yoEso se sabeTú tomas pastillasY yo jarabeA mi me trajo la cigüeñaY a ti dos marcianos en su naveYo podría seguir rapeandoPero tú quieres que acabeY es que túEres más que yoTú eres una sicarionaY yo soy un sicariónTú eres más sicaria que yoY eso que yo soy un sicariónY es que tú eres más que yoTú eres una sicarionaY yo soy un sicariónTú eres más sicaria que yoY eso que yo soy un sicariónAy, dale pa' lla' sicarionaTú eres más mata hombres que Pablo EscobarMás sicaria que Bin LadenY más psicopata mental que Star BurtonAsesinaDisaster estudiosLa J en los botocitosEl 28 de los mios personalesLa gente fuerte\n"
     ]
    }
   ],
   "source": [
    "can_jin = df_jin.iloc[4][_NOMBRE_COL_LETRA]\n",
    "print(can_jin)"
   ]
  },
  {
   "source": [
    "#### Letra C Tangana"
   ],
   "cell_type": "markdown",
   "metadata": {}
  },
  {
   "cell_type": "code",
   "execution_count": 7,
   "metadata": {},
   "outputs": [],
   "source": [
    "df_ctan = read_pickle(_URI_LETRAS + 'C Tangana.pkl')"
   ]
  },
  {
   "cell_type": "code",
   "execution_count": 38,
   "metadata": {},
   "outputs": [
    {
     "output_type": "stream",
     "name": "stdout",
     "text": [
      "\n\n[Letra de \"Gente Normal\"]\n\n[Verse 1: C. Tangana]\nEstudiar y currar, dejar de pensar\nDetrás de la vida run and run and run\nMi rap me da igual, tu rap me da igual\nVacaciones aquí arriba, ganar y pagar\nGente normal, no falsos carceleros\nMis padres me lo dieron\nPrimero, hoy soy uno más\nPienso demasiado y ya está, ni morir ni matar\nTodos tenemos que dejar algo atrás\nVivir de las rentas no llena mi gas\nNo me llena de sus\nCaprichos humildes, los quiero pagar\nQuiero un diamante en su dedo, una casa en el mar\nPilla el sonido del bass, homenaje\nPara las calles con sudor de garaje\nTenía razón tu vieja, Fabi, cuando dijo\n\\\"descansar un rato hijo, caras enfermas\\\"\n\n- Manu, ¿que todo bien, como van las chispas?\n- Todo bien cabrón, paso a recogerte ¿A qué hora sales este finde?\n- Como a las tres, queda con la Inés, luego voy pa' donde estéis\n\n[Verse 2: Manto aka Sticky M.A.]\nPocos Jimi Hendrix y muchos Scarfaces\nHijos de puta ni os lo imagináis\nMis niños quieren droga, no quieren moda\nNada ni nadie que les joda\nQue esta mierda suba, reales y sencillos\nCurrando con mi viejo desde bien chiquillo\nY, apretando tornillos o dentro del tatami\nTirao encima de la cama escuchando a Big Daddy\nSúbelo Fabi, mantenlo puro\nY ¿Cuántas veces eche por patas con Guerudo?\nMariconas llamaron a la poli\nEspero el momento pa' que lo paguen caro\n¿Y verdad, Marcos, que hay mucha puta suelta?\nMirándote el culo cuando te das la vuelta\nMúsica y malta, Anna Kournikova en mis cartas\nEn Sants tapao con una manta\nAguanta, dispara como Eazy\nMi colega Chaiko pasando chinas con su bici\n¿Y tú que imbécil, de que fardas?\nMi peña normal, real, en mi espalda\n¿Verdad, mama?\nAprendimos el truco del pie en el suelo cuando íbamos ciego y daba vueltas la cama...la cama\nPor siempre E.M.S., Agorazeiners ¡Check it out!\n\n[Verse 3: C. Tangana]\nDespertar tarde, comer a deshora\nCon nueve dedos y mitad, a pachas las facturas\nCon la cabeza loca dándole más vueltas que la lavadora\nMañana llamo a la casera, ritmo en la escena\nPago en la vida, cuento lo que veo\nPorque me creo lo que digo y lo mantengo\nReal del cien al cero no te lo repito\nNo necesito convencerte así que callo\n¡Hey yo, hey yo!, la vena reventando el cuello\nCuando no hay fiche pa' el small todo son fallos\nNi por perro ni por viejo\nA veces se consigue lo mejor porque es lo necesario\nRafa que se jodan va por ti y por siempre\nCon siete hombres todos se hacen los valientes\nHay muchas plazas y mucho litros calientes\nMucho moderno con pose de delincuente\nCurrar, dejar de pensar, detrás de la vida, detrás de la vida\nTu rap me da igual, mi rap me da igual\nVacaciones aquí arriba, aquí arriba..\nGente normal, gente normal\nGente normal, gente normal...\nPeña de siempre, humilde, peña normal\n\n\n"
     ]
    }
   ],
   "source": [
    "can_ctan = df_ctan.iloc[9][_NOMBRE_COL_LETRA]\n",
    "print(can_ctan)"
   ]
  },
  {
   "source": [
    "#### Letra de Natos y Waor"
   ],
   "cell_type": "markdown",
   "metadata": {}
  },
  {
   "cell_type": "code",
   "execution_count": 28,
   "metadata": {},
   "outputs": [],
   "source": [
    "df_nyw = read_pickle(_URI_LETRAS + 'Natos y Waor.pkl')"
   ]
  },
  {
   "cell_type": "code",
   "execution_count": 39,
   "metadata": {},
   "outputs": [
    {
     "output_type": "stream",
     "name": "stdout",
     "text": [
      "Letra de \"Delirium\" ft. Recycled J[Verso 1: Waor]Mato la liga, tiento a la drogaMe dejo marcar sólo para jugar la prórrogaWhat's up, reina mora, cómo lo botasHazme de psicóloga, deshaz esta sogaYo, dinero negro y días grises por aquíTu madre no me quiere pa' ti, pero pa' ella síMuchos vacilan pero ¿Quién lo hace así?Bocas masticando aire, familias en crisisEse padre dando cera al SportiumLa madre llora en kelo hasta el ojete de ValiumDelirium. Su hijo no quiere estudiarSólo quiere bailar entre llamas en el pandemoniumCon los nervios de una yaya en el bingoY toa' la cara de pensar en mañana un puto domingoY otro día que despierto sin ser ricoMañana somos portada en los periódicos40 en el vaso, 90 en sus tetas26 a mis espaldas, el tiempo vuelaGiros de 180, -3 ahí fueraBilletes de 100 reflejados en mis córneasNúmeros 1 en esta mierdaEntro con los ojos tapaos en la curva a 3000 vueltasLa ruina, coca y apuestasSe paga 15 a 1 el que pasemos de los 30\n\n[Verso 2: Natos]Cada vez que discutimos, duelen más las cicatricesPerdóname otra vez por lo mal que lo hiceDejé de fumar, ahora bebo por quinceSalgo hecho un pincel, vuelvo viendo tripleYa ni bebo birra, sólo cubatasMe gusta el dinero, no la famaTrazar diagonales infinitas o volar en tu camaEntrar al hangar, correr por el túnel, saltar vallasMe echan del garito por entrar luciendo chándalY armarla, volcando fa en la barraOne, eight, seven y bandera a media asta¿Gangsta? Segurata cineastaAl chivato le cortaba la lenguaCórtate las venas, das pena, vergüenzaReza, reza, reza lo que sepasQue si el cable se me cruza, no queda uno con cabezaDe un tiempo a esta parte ya no sé quién es quiénGuess who's back in the game? Kurt Cocaine, chiki bang, bang!Me gustan los verdes, de cien en cien-como- Benjamin Franklin, -como- Wilt ChamberlainLo hago bien cabrón, porque así se haceEn el rap español, fiesta de disfracesEmpecé de abajo, nadie daba un duro por míY ahora matarían a su madre por tener mis frases\n\n[Puente: Recycled J]Cicatrices, kamikazes(Gesto serio y ropa de antes de ayer)Cicatrices, kamikazes(To' lo compra el parné, aún siento el hueco que dejaste)Cicatrices, kamikazes...Mis hélices en el desguaceFinales felices pero fugacesHumo, luces, Versace, Versace[Verso 3: Recycled J]Fifty en la \"massacre\"En Texas soy el RangerRecycled. Caer, levantarse en el parqueTodo por arte, Júpiter y MarteDale más, dale gas, lo bonito es estrellarseShorty, tengo por el mango la sarténLo haces bien, me he estudiao' tu papelHay cárceles que sólo existen en tu sienAll in, all in...Marcas en la piel, piel de camaleónCamuflao' en el humo entre mil cambios de humorVivo ArmaggedonJoven Dios en mi ciudadViral, crimi crimi criminalVeinte de alquitrán, orden para derribarHijos de la ruina-na-naMi piba desatendida como el GTAY yo matando la liga\n\n[Outro: Recycled J]Cicatrices, kamikazesChico easy, chica fácilFinales felices pero fugacesFinales felices pero...\n"
     ]
    }
   ],
   "source": [
    "can_nyw = df_nyw.iloc[13][_NOMBRE_COL_LETRA]\n",
    "print(can_nyw)"
   ]
  },
  {
   "cell_type": "code",
   "execution_count": null,
   "metadata": {},
   "outputs": [],
   "source": []
  }
 ]
}